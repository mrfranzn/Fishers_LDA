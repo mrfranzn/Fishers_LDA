{
 "cells": [
  {
   "cell_type": "markdown",
   "metadata": {},
   "source": [
    "# Fisher's Linear Discriminant Analysis\n",
    "\n",
    "We perform discriminant analys on data with categorical dependent variables and continuous and continuous independent variables. The first part labels generated data from two distributions with different means and covariance matrices; the second part classfies data from the Ionosphere Dataset."
   ]
  },
  {
   "cell_type": "code",
   "execution_count": 7,
   "metadata": {},
   "outputs": [],
   "source": [
    "import matplotlib.pyplot as plt\n",
    "import numpy as np\n",
    "\n",
    "# to generate perpendicular line to centroids\n",
    "import utils\n",
    "\n",
    "# to load MATLAB .mat files\n",
    "from scipy.io import loadmat\n",
    "\n",
    "# to calculate square root of matrix\n",
    "from scipy.linalg import sqrtm"
   ]
  },
  {
   "cell_type": "markdown",
   "metadata": {},
   "source": [
    "To load *.mat* files we use the function <code>loadmat</code> from <code>scipy.io</code>. This functions returns a dictionary; the key <code>'sonar_data'</code> gives the array with data, the key <code>sonar_labels</code> the corresponding labels."
   ]
  },
  {
   "cell_type": "code",
   "execution_count": 16,
   "metadata": {},
   "outputs": [
    {
     "name": "stdout",
     "output_type": "stream",
     "text": [
      "(208, 60) \n",
      " (208, 1)\n"
     ]
    }
   ],
   "source": [
    "# path to sonar dataset\n",
    "path = 'data/sonar.mat'\n",
    "data = loadmat(path)\n",
    "\n",
    "# extract features and labels\n",
    "sonar_data = data['sonar_data']\n",
    "sonar_labels = data['sonar_label']\n",
    "print(sonar_data.shape, '\\n',\n",
    "      sonar_labels.shape)"
   ]
  },
  {
   "cell_type": "markdown",
   "metadata": {},
   "source": [
    "## Fisher's LDA with generated data\n",
    "\n",
    "We generate 40 observations from a normal distribution with mean\n",
    "\n",
    "$$\n",
    "\\mu_A = \\begin{pmatrix} -8 & 5 \\end{pmatrix}\n",
    "$$\n",
    "\n",
    "and covariance matrix\n",
    "\n",
    "$$\n",
    "\\Sigma_A =\n",
    "\\begin{pmatrix}\n",
    "2.5 & -1.5 \\\\\n",
    "-1.5 & 2.5\n",
    "\\end{pmatrix}\n",
    "$$\n",
    "\n",
    "and 60 observations from a normal distribution with mean\n",
    "\n",
    "$$\n",
    "\\mu_B = \\begin{pmatrix} -3 & 8 \\end{pmatrix}\n",
    "$$\n",
    "\n",
    "and covariance matrix\n",
    "\n",
    "$$\n",
    "\\Sigma_B =\n",
    "\\begin{pmatrix}\n",
    "2.5 & -1.5 \\\\\n",
    "-1.5 & 2.5\n",
    "\\end{pmatrix}.\n",
    "$$\n",
    "\n",
    "The generated data is the split into two training datasets and two test datasets."
   ]
  },
  {
   "cell_type": "code",
   "execution_count": 51,
   "metadata": {},
   "outputs": [],
   "source": [
    "theta = np.pi / 4\n",
    "\n",
    "# mean vectors\n",
    "muA, muB = np.array([-8, 5]), np.array([-3, 8])\n",
    "\n",
    "T = np.array([[np.cos(theta), -np.sin(theta)], \n",
    "              [np.sin(theta), np.cos(theta)]])\n",
    "S = T @ np.diag([1,2]) @ T.T\n",
    "\n",
    "# generate data\n",
    "DataA = (np.random.randn(40, 2) @ S) + muA\n",
    "DataB = (np.random.randn(60, 2) @ S) + muB\n",
    "\n",
    "# train-test split\n",
    "TrainA = DataA[:-20]\n",
    "TrainB = DataB[:-20]\n",
    "TestA = DataA[-20:]\n",
    "TestB = DataB[-20:]"
   ]
  },
  {
   "cell_type": "markdown",
   "metadata": {},
   "source": [
    "Below is a plot of the traing data from the two classes."
   ]
  },
  {
   "cell_type": "code",
   "execution_count": 52,
   "metadata": {
    "scrolled": true
   },
   "outputs": [
    {
     "data": {
      "image/png": "[encoded data removed]",
      "text/plain": [
       "<Figure size 432x288 with 1 Axes>"
      ]
     },
     "metadata": {
      "needs_background": "light"
     },
     "output_type": "display_data"
    }
   ],
   "source": [
    "for data, marker, color, label in zip((TrainA, TrainB), \n",
    "    ('+', 'x'), ('red', 'blue'), ('ClassA', 'ClassB')):\n",
    "\n",
    "    plt.scatter(*data.T,\n",
    "            marker=marker,\n",
    "            color=color,\n",
    "            alpha=0.5,\n",
    "            label=label\n",
    "            )\n",
    "    plt.legend()\n",
    "plt.show()"
   ]
  },
  {
   "cell_type": "markdown",
   "metadata": {},
   "source": [
    "Fisher's linear discriminant aims to project each data point ont a lower diminsion - in our case from two-dimensional space to one-dimensional space in a direction that maximally separates the points from different classes.\n",
    "\n",
    "In the case of two classes, one does so by maximizing the fraction\n",
    "\n",
    "$$\n",
    "\\frac{\\mathrm{(w^Tm_A - w^Tm_B)^2}}{\\mathrm{w^T(\\Sigma_A + \\Sigma_B)w}},\n",
    "$$\n",
    "\n",
    "where $\\mathrm{m_i}$ is the mean vector of the $i$:th class and ${\\Sigma_i}$ is the covariance matrix of the $i$:th class."
   ]
  },
  {
   "cell_type": "markdown",
   "metadata": {},
   "source": [
    "### Derivation of the optimal solution\n",
    "\n",
    "The optimal solution is given by\n",
    "$$\n",
    "\\mathrm{w} = \\left(\\mathrm{\\Sigma_A - \\Sigma_B}\\right)^{-1} \\left(\\mathrm{m_A - m_B} \\right).\n",
    "$$\n",
    "\n",
    "To see this, note first that the numerator may be written in the form\n",
    "\n",
    "$$\n",
    "\\mathrm{w^T S_B w},\n",
    "$$\n",
    "\n",
    "where $\\mathrm{S_B}$ is the matrix\n",
    "\n",
    "$$\n",
    "\\mathrm{(m_A - m_B)(m_A - m_B)^T},\n",
    "$$\n",
    "\n",
    "since \n",
    "\n",
    "$$\n",
    "\\begin{align*}\n",
    "\\mathrm{(w^Tm_A - w^Tm_B)^2} &= \\mathrm{(w^Tm_A - w^Tm_B)(m_A^Tw - m_B^T w)} \\\\\n",
    "&= \\mathrm{w^T(m_A - m_B)(m_A - m_B)^T w}.\n",
    "\\end{align*}\n",
    "$$\n",
    "\n",
    "Note also that\n",
    "\n",
    "$$\n",
    "\\mathrm{w^T S_B w} = \\mathrm{(w^Tm_A - w^Tm_B)^2}\n",
    "$$\n",
    "\n",
    "means that $\\mathrm{S_b}$ is positive definite.\n",
    "\n",
    "We proved in the first homework that, under the condition that $\\mathrm{S_B}$ is positive definite, then the maximum value of \n",
    "\n",
    "$$\n",
    "\\frac{\\mathrm{x^T S_B x} }{\\mathrm{x^T x}}\n",
    "$$\n",
    "\n",
    "is given by be larges eigenvalue $\\lambda$ of $\\mathrm{S_B}$.\n",
    "\n",
    "Now assume that the covariance matrices $\\mathrm{\\Sigma_A}$ and $\\mathrm{\\Sigma_B}$ are positive definite (this is for instance the case when they are covariance matrices of the normal distribution - but not necessarily so when they are *sample* covariance matrices). Then the sum\n",
    "\n",
    "$$\n",
    "\\mathrm{S_W} := \\mathrm{\\Sigma_A} + \\mathrm{\\Sigma_B}\n",
    "$$\n",
    "\n",
    "is also positive definite and has an invertible (symmetric) square root $\\mathrm{S_W^{1/2}}$.\n",
    "\n",
    "Thus\n",
    "\n",
    "$$\n",
    "\\begin{align*}\n",
    "\\frac{\\mathrm{w^T S_B w} }{\\mathrm{w^T(\\Sigma_A + \\Sigma_B)w}} &= \\frac{\\mathrm{(S_W^{1/2}w)^T S_W^{-1/2}S_BS_W^{-1/2}(S_W^{1/2} w)} }{\\mathrm{(S_W^{1/2}w)^T(S_W^{1/2}w)}} \\\\\n",
    "&= \\frac{\\mathrm{y^T S_W^{-1/2}S_BS_W^{-1/2}y} }{\\mathrm{y^Ty}}.\n",
    "\\end{align*}\n",
    "$$\n",
    "\n",
    "As $\\mathrm{S_W^{1/2}}$ is symmetric, $\\mathrm{S_W^{-1/2}S_BS_W^{-1/2}}$ is positive definite and the maximum value of \n",
    "\n",
    "$$\n",
    "\\frac{\\mathrm{w^T S_B w} }{\\mathrm{w^T(\\Sigma_A + \\Sigma_B)w}} \n",
    "$$\n",
    "\n",
    "is thus given by the larges eigenvalue of\n",
    "\n",
    "$$\n",
    "\\mathrm{S_W^{-1/2}S_BS_W^{-1/2}}.\n",
    "$$\n",
    "\n",
    "Assuming that $\\mathrm{S_B}$ and $\\mathrm{S_W^{-1/2}}$ commutes the maximum is given by the larges eigenvalue of\n",
    "\n",
    "$$\n",
    "\\mathrm{S_W^{-1}S_B}.\n",
    "$$\n",
    "\n",
    "Now, calculating the partial derivatives of \n",
    "\n",
    "$$\n",
    "\\mathrm{w^T S_B w}\n",
    "$$\n",
    "\n",
    "and \n",
    "\n",
    "$$\n",
    "\\mathrm{w^TS_Ww}\n",
    "$$\n",
    "\n",
    "we find that their respecitve gradients are given by\n",
    "\n",
    "$$\n",
    "\\mathrm{2 S_B w} \\text{ and } \\mathrm{2 S_W w}.\n",
    "$$\n",
    "\n",
    "Using the quotient rule we find the the gradient of\n",
    "\n",
    "$$\n",
    "\\frac{\\mathrm{w^T S_B w}}{\\mathrm{w^TS_Ww}}\n",
    "$$\n",
    "\n",
    "is given by\n",
    "\n",
    "$$\n",
    "\\frac{ \\mathrm{(2 S_B w)w^TS_Ww - (2 S_Ww) w^T S_B w} }{(\\mathrm{w^TS_Ww})^2}.\n",
    "$$\n",
    "\n",
    "Setting\n",
    "\n",
    "$$\n",
    "\\frac{ \\mathrm{(2 S_B w)w^TS_Ww - (2 S_Ww) w^T S_B w} }{(\\mathrm{w^TS_Ww})^2} = \\boldsymbol 0\n",
    "$$\n",
    "\n",
    "and solving for $\\mathrm w$ and assuming $\\mathrm{S_w}$ is invertible, we find that\n",
    "\n",
    "$$\n",
    "\\begin{align*}\n",
    "\\mathrm w &= \\frac{\\mathrm{w^T S_w w}}{\\mathrm{w^T S_B w}}\\mathrm{S_w^{-1}S_B w} \\\\\n",
    "&= \\frac{\\mathrm{w^T S_w w}}{\\mathrm{w^T S_B w}}\\mathrm{S_w^{-1}}\\mathrm{(m_A - m_B)(m_A - m_B)^T w} \\\\\n",
    "&= \\left (  \\frac{\\mathrm{w^T S_w w}}{\\mathrm{w^T S_B w}}\\mathrm{(m_A - m_B)^T w} \\right)\\mathrm{S_w^{-1}}\\mathrm{(m_A - m_B)}.\n",
    "\\end{align*}\n",
    "$$\n",
    "\n",
    "Which is what we set out to find (plus a scaling factor which does not change the direction of the vector). Assuming the correctness of the previous maximum as that of the largest eigenvalue, this must indeed be a maximum as it solves the generalized eigenvalue problem."
   ]
  },
  {
   "cell_type": "markdown",
   "metadata": {},
   "source": [
    "### Projecting the data onto a line\n",
    "\n",
    "Let us now project the training data onto the vector $\\mathrm w$ found above and observe the separation it accomplish."
   ]
  },
  {
   "cell_type": "code",
   "execution_count": 271,
   "metadata": {},
   "outputs": [],
   "source": [
    "mA = np.mean(TrainA, axis=0)\n",
    "mB = np.mean(TrainB, axis=0)\n",
    "sA = np.cov(TrainA.T)\n",
    "sB = np.cov(TrainB.T)\n",
    "S_W = sA + sB"
   ]
  },
  {
   "cell_type": "code",
   "execution_count": 273,
   "metadata": {},
   "outputs": [],
   "source": [
    "# separation vector\n",
    "w = np.linalg.inv(S_W) @ (mA - mB)\n",
    "# normalize w\n",
    "w = w / np.linalg.norm(w)"
   ]
  },
  {
   "cell_type": "markdown",
   "metadata": {},
   "source": [
    "The formula for projecting a vector $\\mathrm v$ onto an other (normalized) vector $\\mathrm w$ is\n",
    "\n",
    "$$\n",
    "\\langle \\mathrm v, \\mathrm w \\rangle \\mathrm w.\n",
    "$$\n",
    "\n",
    "In NumPy, given an array of vectors <code>Data</code> we may calculate the inner product of each vector with the vector <code>w</code> using matrix multiplication <code>w.T @ Data.T</code>. Using the broadcasting capabilities of NumPy, it is then possible to multiply each coordinate of  <code>w</code> with each resulting inner product from this matrix multiplication with\n",
    "<code>(w.T @ Data.T)[:, None] * w</code>. This results in an array with all the projected vectors."
   ]
  },
  {
   "cell_type": "code",
   "execution_count": 274,
   "metadata": {
    "scrolled": true
   },
   "outputs": [],
   "source": [
    "projA = (w.T @ TrainA.T)[:, None] * w\n",
    "projB = (w.T @ TrainB.T)[:, None] * w"
   ]
  },
  {
   "cell_type": "code",
   "execution_count": 275,
   "metadata": {
    "scrolled": true
   },
   "outputs": [
    {
     "data": {
      "image/png": "[encoded data removed]",
      "text/plain": [
       "<Figure size 432x288 with 1 Axes>"
      ]
     },
     "metadata": {
      "needs_background": "light"
     },
     "output_type": "display_data"
    }
   ],
   "source": [
    "# plot data\n",
    "for data, marker, color, label in zip((TrainA, TrainB), \n",
    "    ('+', 'x'), ('red', 'blue'), ('ClassA', 'ClassB')):\n",
    "\n",
    "    plt.scatter(*data.T,\n",
    "            marker=marker,\n",
    "            color=color,\n",
    "            alpha=0.5,\n",
    "            label=label\n",
    "            )\n",
    "    \n",
    "# plot projected data\n",
    "for data, marker, color in zip((projA, projB), \n",
    "    ('o', 'o'), ('red', 'blue')):\n",
    "\n",
    "    plt.scatter(*data.T,\n",
    "            marker=marker,\n",
    "            color=color,\n",
    "            alpha=0.5,\n",
    "            )\n",
    "\n",
    "# plot decision boundary\n",
    "w_c = (w @ (mA + mB) / 2) * w\n",
    "plt.scatter(*w_c, s=100, c='y', marker='d', \n",
    "            label='$\\mathrm{(w^T(m_A + mB)/2)w}$')\n",
    "\n",
    "plt.legend()\n",
    "plt.show()"
   ]
  },
  {
   "cell_type": "markdown",
   "metadata": {},
   "source": [
    "This looks like a pretty good separation of the two classes!"
   ]
  },
  {
   "cell_type": "markdown",
   "metadata": {},
   "source": [
    "### Building a classifier from Fisher's linear discriminant\n",
    "\n",
    "We may build a classifier that classifies any vector $\\mathrm x$ as belonging to either class A or class B, depending on wether it is projected to some number greater or less than some specified number $c$. The mean from the training data <code>TrainA</code> is projected to the point $\\mathrm{w^T m_A}$ and the mean of the training data <code>trainB</code> is projected to the point $\\mathrm{w^T m_B}$, we thus let $c$ be the middle point between these to values, that is\n",
    "\n",
    "$$\n",
    "c := \\mathrm{w^T (m_A + m_B) / 2}.\n",
    "$$\n",
    "\n",
    "A vector $\\mathrm x$ is then classified as belongin to class A if $\\mathrm{w^T x } \\ge c$ and as belonging to class B if $\\mathrm{w^T x} < c$."
   ]
  },
  {
   "cell_type": "code",
   "execution_count": 17,
   "metadata": {},
   "outputs": [],
   "source": [
    "def fda_classifier(data, w, meanA, meanB):\n",
    "    '''\n",
    "    Classifies row each row x in the array data as either\n",
    "    belonging to class A or class B. Calculates w^T * meanA and\n",
    "    w^T * meanB; and if w^T * meanA > w^T * meanB then x is\n",
    "    classified as belonging to class A if w^T * x is greater \n",
    "    than w^T * (meanA + meanB) / 2, or as belonging to class B \n",
    "    otherwise.\n",
    "    \n",
    "    Parameters\n",
    "    ----------\n",
    "    data : array\n",
    "        Data to be classified. Should be of shape (n, 2).\n",
    "        \n",
    "    w : array\n",
    "        The vector which projects each row in Data onto the\n",
    "        real line. Should be of shape (2, )\n",
    "    \n",
    "    meanA : array\n",
    "        Mean vector of class A\n",
    "            \n",
    "    meanB : array\n",
    "        Mean vector of class B\n",
    "            \n",
    "    Returns\n",
    "    -------\n",
    "    labels : array_like\n",
    "        The array with the labels for each row in data. The \n",
    "        label for class a is 1 and the label for class B is 0.\n",
    "    \n",
    "    '''\n",
    "    # calculate decision boundary\n",
    "    c = w @ (meanA + meanB) / 2\n",
    "    \n",
    "    #project data\n",
    "    projections = w @ data.T\n",
    "    \n",
    "    # determine labels\n",
    "    labels = (projections > c) * 1\n",
    "    \n",
    "    # reverse labels if the projection of meanB is greatest\n",
    "    if w @ meanA < w @ meanB:\n",
    "        labels = np.ones(labels.shape) - labels\n",
    "    \n",
    "    return labels\n",
    "    \n",
    "    "
   ]
  },
  {
   "cell_type": "markdown",
   "metadata": {},
   "source": [
    "### How accurate is the classifier?\n",
    "\n",
    "Looking at the plot above, it seems like we could get an almost perfect classification. Let us try to classify the *test data* and record the accuracy. The accuracy we calculate is the rate of missclassified observations from either of the two classes."
   ]
  },
  {
   "cell_type": "code",
   "execution_count": 18,
   "metadata": {},
   "outputs": [
    {
     "ename": "NameError",
     "evalue": "name 'TrainA' is not defined",
     "output_type": "error",
     "traceback": [
      "\u001b[1;31m---------------------------------------------------------------------------\u001b[0m",
      "\u001b[1;31mNameError\u001b[0m                                 Traceback (most recent call last)",
      "\u001b[1;32m<ipython-input-18-bd0eff774357>\u001b[0m in \u001b[0;36m<module>\u001b[1;34m\u001b[0m\n\u001b[0;32m      1\u001b[0m \u001b[1;31m# classify test data\u001b[0m\u001b[1;33m\u001b[0m\u001b[1;33m\u001b[0m\u001b[1;33m\u001b[0m\u001b[0m\n\u001b[1;32m----> 2\u001b[1;33m \u001b[0mtrain_labels_A\u001b[0m \u001b[1;33m=\u001b[0m \u001b[0mfda_classifier\u001b[0m\u001b[1;33m(\u001b[0m\u001b[0mTrainA\u001b[0m\u001b[1;33m,\u001b[0m \u001b[0mw\u001b[0m\u001b[1;33m,\u001b[0m \u001b[0mmA\u001b[0m\u001b[1;33m,\u001b[0m \u001b[0mmB\u001b[0m\u001b[1;33m)\u001b[0m\u001b[1;33m\u001b[0m\u001b[1;33m\u001b[0m\u001b[0m\n\u001b[0m\u001b[0;32m      3\u001b[0m \u001b[0mtrain_labels_B\u001b[0m \u001b[1;33m=\u001b[0m \u001b[0mfda_classifier\u001b[0m\u001b[1;33m(\u001b[0m\u001b[0mTrainB\u001b[0m\u001b[1;33m,\u001b[0m \u001b[0mw\u001b[0m\u001b[1;33m,\u001b[0m \u001b[0mmA\u001b[0m\u001b[1;33m,\u001b[0m \u001b[0mmB\u001b[0m\u001b[1;33m)\u001b[0m\u001b[1;33m\u001b[0m\u001b[1;33m\u001b[0m\u001b[0m\n\u001b[0;32m      4\u001b[0m \u001b[1;33m\u001b[0m\u001b[0m\n\u001b[0;32m      5\u001b[0m \u001b[1;31m# sum missclassifications\u001b[0m\u001b[1;33m\u001b[0m\u001b[1;33m\u001b[0m\u001b[1;33m\u001b[0m\u001b[0m\n",
      "\u001b[1;31mNameError\u001b[0m: name 'TrainA' is not defined"
     ]
    }
   ],
   "source": [
    "# classify test data\n",
    "train_labels_A = fda_classifier(TrainA, w, mA, mB)\n",
    "train_labels_B = fda_classifier(TrainB, w, mA, mB)\n",
    "\n",
    "# sum missclassifications\n",
    "misscls = np.sum(train_labels_A == 0) + np.sum(train_labels_B == 1)\n",
    "\n",
    "# calculate success rate\n",
    "success_rate = 1 - (misscls / (len(TrainA) + len(TrainB)))\n",
    "print('Success rate: ', success_rate)"
   ]
  },
  {
   "cell_type": "markdown",
   "metadata": {},
   "source": [
    "## Fisher's LDA on the Ionosphere Dataset\n",
    "\n",
    "We will now apply Fisher's linear discriminant on the Ionosphere Dataset from [UCI Machine Learning Repository](http://archive.ics.uci.edu/ml/datasets/Ionosphere). The dataset contains $208$ labeled observations - the labels are $0$ or $1$ - where each observation has $60$ features. \n",
    "\n",
    "In this case, with $34$ features, it isn't necessary to project each observation to a real number, but one could instead try to project the dataset to sume $d$-dimensional space, with $d < 34$ and then classify  the observations based on some decision boundary in $\\mathbb R^d$. But we will begin with to project the data onto $\\mathbb R$ and se how the classifier fares.\n",
    "\n",
    "We will identify the label $1$ as label $A$ and label $0$ as label $B$."
   ]
  },
  {
   "cell_type": "markdown",
   "metadata": {},
   "source": [
    "We make a $70$-$30$ train-test split of the data by first shuffling the dataset and then splitting each label into a train - and a test - part."
   ]
  },
  {
   "cell_type": "code",
   "execution_count": 51,
   "metadata": {},
   "outputs": [],
   "source": [
    "sonar_labels = sonar_labels.flatten()\n",
    "\n",
    "# generate random index\n",
    "indx = np.arange(sonar_labels.shape[0])\n",
    "np.random.shuffle(indx)\n",
    "\n",
    "# reindex data\n",
    "sonar_data = sonar_data[indx]\n",
    "sonar_labels = sonar_labels[indx]\n",
    "\n",
    "# extract data with labels\n",
    "sonarA = sonar_data[sonar_labels == 1]\n",
    "sonarB = sonar_data[sonar_labels == 0]\n",
    "\n",
    "# number of observations for testing\n",
    "nA = np.floor(0.3 * len(sonarA)).astype(int)\n",
    "nB = np.floor(0.3 * len(sonarB)).astype(int)\n",
    "\n",
    "# train-test split\n",
    "sonarTrainA = sonarA[:-nA]\n",
    "sonarTrainB = sonarB[:-nB]\n",
    "sonarTestA = sonarA[-nA:]\n",
    "sonarTestB = sonarB[-nB:]"
   ]
  },
  {
   "cell_type": "markdown",
   "metadata": {},
   "source": [
    "Calculate means for the two labels and *between convariance matrix*."
   ]
  },
  {
   "cell_type": "code",
   "execution_count": 59,
   "metadata": {},
   "outputs": [],
   "source": [
    "mA = np.mean(sonarTrainA, axis=0)\n",
    "mB = np.mean(sonarTrainB, axis=0)\n",
    "sA = np.cov(sonarTrainA.T)\n",
    "sB = np.cov(sonarTrainB.T)\n",
    "S_W = sA + sB"
   ]
  },
  {
   "cell_type": "markdown",
   "metadata": {},
   "source": [
    "Calculate the projection vextor."
   ]
  },
  {
   "cell_type": "code",
   "execution_count": 53,
   "metadata": {},
   "outputs": [],
   "source": [
    "# separation vector\n",
    "w = np.linalg.inv(S_W) @ (mA - mB)\n",
    "# normalize w\n",
    "w = w / np.linalg.norm(w)"
   ]
  },
  {
   "cell_type": "markdown",
   "metadata": {},
   "source": [
    "Classify data and calculate the success rate."
   ]
  },
  {
   "cell_type": "code",
   "execution_count": 54,
   "metadata": {
    "scrolled": true
   },
   "outputs": [
    {
     "name": "stdout",
     "output_type": "stream",
     "text": [
      "Success rate:  0.8225806451612903\n"
     ]
    }
   ],
   "source": [
    "# classify test data\n",
    "test_labels_A = fda_classifier(sonarTestA, w, mA, mB)\n",
    "test_labels_B = fda_classifier(sonarTestB, w, mA, mB)\n",
    "\n",
    "# sum missclassifications\n",
    "misscls = np.sum(test_labels_A == 0) + np.sum(test_labels_B == 1)\n",
    "\n",
    "# calculate success rate\n",
    "success_rate = 1 - (misscls / (len(test_labels_A) + len(test_labels_B)))\n",
    "print('Success rate: ', success_rate)"
   ]
  },
  {
   "cell_type": "markdown",
   "metadata": {},
   "source": [
    "That is we get a success rate of about $82 \\%$. Let us plot the projection."
   ]
  },
  {
   "cell_type": "code",
   "execution_count": 55,
   "metadata": {
    "scrolled": false
   },
   "outputs": [
    {
     "data": {
      "image/png": "[encoded data removed]",
      "text/plain": [
       "<Figure size 432x288 with 1 Axes>"
      ]
     },
     "metadata": {
      "needs_background": "light"
     },
     "output_type": "display_data"
    }
   ],
   "source": [
    "projA = (w @ sonarTestA.T, np.zeros(len(sonarTestA)))\n",
    "projB = (w @ sonarTestB.T, np.zeros(len(sonarTestB)))\n",
    "\n",
    "# plot projected data\n",
    "for data, marker, color, label in zip((projA, projB), \n",
    "    ('o', 'o'), ('red', 'blue'), ('Class A', 'Class B')):\n",
    "\n",
    "    plt.scatter(*data,\n",
    "            marker=marker,\n",
    "            color=color,\n",
    "            alpha=0.4,\n",
    "            label=label\n",
    "            )\n",
    "\n",
    "# plot decision boundary\n",
    "w_c = ((w @ (mA + mB) / 2), 0)\n",
    "plt.scatter(*w_c, s=100, c='y', marker='d', \n",
    "            label='$\\mathrm{(w^T(m_A + mB)/2)w}$')\n",
    "\n",
    "plt.legend()\n",
    "plt.show()"
   ]
  },
  {
   "cell_type": "markdown",
   "metadata": {},
   "source": [
    "### What about a different decision boundary than $c:= \\mathrm{w^T(m_A + m_b)} / 2$\n",
    "\n",
    "How sensitive is the success rate of classification to the particular choise of decision boundary $c$? We attempt five different decision boyndaries, evenly spaced in the interval $(\\mathrm{w^T m_B}, \\mathrm{w^T m_A})$."
   ]
  },
  {
   "cell_type": "markdown",
   "metadata": {},
   "source": [
    "First, observe that $\\mathrm{w^T m_B} < \\mathrm{w^T m_A}$."
   ]
  },
  {
   "cell_type": "code",
   "execution_count": 56,
   "metadata": {},
   "outputs": [],
   "source": [
    "assert w @ mB < w @ mA"
   ]
  },
  {
   "cell_type": "code",
   "execution_count": 57,
   "metadata": {
    "scrolled": true
   },
   "outputs": [
    {
     "name": "stdout",
     "output_type": "stream",
     "text": [
      "Success rate for c=0.0088: 0.81\n",
      "Success rate for c=0.014: 0.84\n",
      "Success rate for c=0.02: 0.82\n",
      "Success rate for c=0.026: 0.73\n",
      "Success rate for c=0.031: 0.63\n"
     ]
    }
   ],
   "source": [
    "for c in np.linspace( w @ mB, w @ mA, 5):\n",
    "    \n",
    "    #project data\n",
    "    projA = w @ sonarTestA.T\n",
    "    projB = w @ sonarTestB.T\n",
    "    \n",
    "    # determine labels\n",
    "    test_labels_A = (projA > c) * 1\n",
    "    test_labels_B = (projB > c) * 1\n",
    "    \n",
    "    # sum missclassifications\n",
    "    misscls = np.sum(test_labels_A == 0) + np.sum(test_labels_B == 1)\n",
    "\n",
    "\n",
    "    # calculate success rate\n",
    "    success_rate = 1 - (misscls / (len(test_labels_A) + len(test_labels_B)))\n",
    "    \n",
    "    print('Success rate for c={:.2}: {:.2}'.format(c,success_rate))"
   ]
  },
  {
   "cell_type": "markdown",
   "metadata": {},
   "source": [
    "The optimal solution seems still to be the midpoint $\\mathrm{m^T (m_A + m_B)} /2 $."
   ]
  },
  {
   "cell_type": "markdown",
   "metadata": {},
   "source": [
    "### Possible issue with singular $\\mathrm{S_W}$\n",
    "The determinant of the *within-covariance matrix* $\\mathrm{S_W}$ is very close to zero:"
   ]
  },
  {
   "cell_type": "code",
   "execution_count": 61,
   "metadata": {
    "scrolled": true
   },
   "outputs": [
    {
     "name": "stdout",
     "output_type": "stream",
     "text": [
      "Determinant(Sw) = 1.77e-151\n"
     ]
    }
   ],
   "source": [
    "print('Determinant(Sw) = {:.3}'.format(np.linalg.det(S_W)))"
   ]
  },
  {
   "cell_type": "markdown",
   "metadata": {},
   "source": [
    "This is so since all the values in the array of features is between zero and one (perhaps the data is normalized?), and thus the covariance matrices is populated with values in $[-1, 1]$ - in particular manny values very close to zero (perhaps one could guess that with a large number of features quite a few of the will be uncorrelated). Thus the determinant becomes very small.\n",
    "\n",
    "If $\\mathrm{S_W}$ is singular one could use the generalized inverse instead."
   ]
  },
  {
   "cell_type": "markdown",
   "metadata": {},
   "source": [
    "### What if we project the data onto an higer dimension than one?\n",
    "\n",
    "More generally we may project the features onto a space of lower dimension $D'$ by introducing a matrix\n",
    "\n",
    "$$\n",
    "\\mathrm W = \\begin{bmatrix}\n",
    "\\vdots & \\vdots & \\dots & \\vdots \\\\\n",
    "\\mathrm{w_1} & \\mathrm{w_2} & \\dots & \\mathrm{w_{D'}} \\\\\n",
    "\\vdots & \\vdots & \\dots & \\vdots\n",
    "\\end{bmatrix}.\n",
    "$$\n",
    "\n",
    "and projectiong the data in $\\mathrm{X}$ with\n",
    "\n",
    "$$\n",
    "\\mathrm{W^T X}.\n",
    "$$\n",
    "\n",
    "The goal is now to maximize\n",
    "$$\n",
    "J(\\mathrm W) := \\left | \\frac{\\mathrm{W S_B W^T}}{\\mathrm{W S_W W^T}} \\right |,\n",
    "$$\n",
    "\n",
    "where $\\mathrm{S_B}$ is the *between-scatter matrix*\n",
    "\n",
    "$$\n",
    "\\mathrm{S_B} := N_A(\\mathrm{m_A - m})(\\mathrm{m_A - m})^T +N_B(\\mathrm{m_B - m})(\\mathrm{m_B - m})^T,\n",
    "$$\n",
    "\n",
    "$\\mathrm{m}$ denotes the overall mean of the data and $N_i$ the proportion of observations from class $i$.\n",
    "\n",
    "The solution can be shown to be\n",
    "\n",
    "$$\n",
    "\\mathrm{W} = \\mathrm{S_W^{-1/2}U},\n",
    "$$\n",
    "\n",
    "where $\\mathrm{U}$ conists of the $D'$ leading egenvectors of\n",
    "\n",
    "$$\n",
    "\\mathrm{S_W^{-1/2} S_B S_W^{-1/2}}.\n",
    "$$\n"
   ]
  },
  {
   "cell_type": "markdown",
   "metadata": {},
   "source": [
    "Let us calculate these matrices and find the two eigenvectors corresponding to the two largest eigenvalues."
   ]
  },
  {
   "cell_type": "code",
   "execution_count": 62,
   "metadata": {},
   "outputs": [],
   "source": [
    "# calculate wights from S_B\n",
    "N_A = len(sonarTrainA) / (len(sonarTrainA) + len(sonarTrainB))\n",
    "N_B = 1 - N_A\n",
    "\n",
    "m = np.mean(np.vstack((sonarTrainA, sonarTrainB)), axis=0)\n",
    "\n",
    "# calculate S_B\n",
    "S_B = N_A*(mA - m)[:, None] @ (mA - m)[:, None].T + \\\n",
    "      N_B*(mB - m)[:, None] @ (mB - m)[:, None].T  \n",
    "\n",
    "# calculate inverse of square root\n",
    "S = np.linalg.inv(sqrtm(S_W))\n",
    "\n",
    "# get eigenvalues and eigenvectors\n",
    "eig_vals, eig_vecs = np.linalg.eig(S @ S_B)"
   ]
  },
  {
   "cell_type": "code",
   "execution_count": 63,
   "metadata": {
    "scrolled": true
   },
   "outputs": [],
   "source": [
    "eig_pairs = np.concatenate([eig_vals[:, None], eig_vecs.T], axis=1)\n",
    "\n",
    "# make entries real\n",
    "eig_pairs = eig_pairs.real\n",
    "\n",
    "# create index to sort in decreasing order ofter first column\n",
    "ind = np.argsort(np.abs(eig_pairs[:, 0]))[::-1]\n",
    "eig_pairs = eig_pairs[ind]\n",
    "\n"
   ]
  },
  {
   "cell_type": "code",
   "execution_count": 64,
   "metadata": {
    "scrolled": true
   },
   "outputs": [
    {
     "name": "stdout",
     "output_type": "stream",
     "text": [
      "Variance explained:\n",
      "\n",
      "eigenvalue 1: 100.00%\n",
      "eigenvalue 2: 0.00%\n",
      "eigenvalue 3: 0.00%\n",
      "eigenvalue 4: 0.00%\n",
      "eigenvalue 5: 0.00%\n",
      "eigenvalue 6: 0.00%\n",
      "eigenvalue 7: 0.00%\n",
      "eigenvalue 8: 0.00%\n",
      "eigenvalue 9: 0.00%\n",
      "eigenvalue 10: 0.00%\n",
      "eigenvalue 11: 0.00%\n",
      "eigenvalue 12: 0.00%\n",
      "eigenvalue 13: 0.00%\n",
      "eigenvalue 14: 0.00%\n",
      "eigenvalue 15: 0.00%\n",
      "eigenvalue 16: 0.00%\n",
      "eigenvalue 17: 0.00%\n",
      "eigenvalue 18: 0.00%\n",
      "eigenvalue 19: 0.00%\n",
      "eigenvalue 20: 0.00%\n",
      "eigenvalue 21: 0.00%\n",
      "eigenvalue 22: 0.00%\n",
      "eigenvalue 23: 0.00%\n",
      "eigenvalue 24: 0.00%\n",
      "eigenvalue 25: 0.00%\n",
      "eigenvalue 26: 0.00%\n",
      "eigenvalue 27: 0.00%\n",
      "eigenvalue 28: 0.00%\n",
      "eigenvalue 29: 0.00%\n",
      "eigenvalue 30: 0.00%\n",
      "eigenvalue 31: 0.00%\n",
      "eigenvalue 32: 0.00%\n",
      "eigenvalue 33: 0.00%\n",
      "eigenvalue 34: 0.00%\n",
      "eigenvalue 35: 0.00%\n",
      "eigenvalue 36: 0.00%\n",
      "eigenvalue 37: 0.00%\n",
      "eigenvalue 38: 0.00%\n",
      "eigenvalue 39: 0.00%\n",
      "eigenvalue 40: 0.00%\n",
      "eigenvalue 41: 0.00%\n",
      "eigenvalue 42: 0.00%\n",
      "eigenvalue 43: 0.00%\n",
      "eigenvalue 44: 0.00%\n",
      "eigenvalue 45: 0.00%\n",
      "eigenvalue 46: 0.00%\n",
      "eigenvalue 47: 0.00%\n",
      "eigenvalue 48: 0.00%\n",
      "eigenvalue 49: 0.00%\n",
      "eigenvalue 50: 0.00%\n",
      "eigenvalue 51: 0.00%\n",
      "eigenvalue 52: 0.00%\n",
      "eigenvalue 53: 0.00%\n",
      "eigenvalue 54: 0.00%\n",
      "eigenvalue 55: 0.00%\n",
      "eigenvalue 56: 0.00%\n",
      "eigenvalue 57: 0.00%\n",
      "eigenvalue 58: 0.00%\n",
      "eigenvalue 59: 0.00%\n",
      "eigenvalue 60: 0.00%\n"
     ]
    }
   ],
   "source": [
    "print('Variance explained:\\n')\n",
    "eigv_sum = np.sum(np.abs(eig_pairs[:, 0].real))\n",
    "for i, val in enumerate(eig_pairs[:, 0].real):\n",
    "    print('eigenvalue {0:}: {1:.2%}'.format(i+1, (np.abs(val)/eigv_sum)))"
   ]
  },
  {
   "cell_type": "markdown",
   "metadata": {},
   "source": [
    "The reason for this is that the second eigenvalue has size approximately $2\\cdot 10^{-17}$. That the first eigenvalue almost make of for $100 \\%$ of the total size does not seem promizing if we wish to extract additional information from a second dimension."
   ]
  },
  {
   "cell_type": "code",
   "execution_count": 180,
   "metadata": {},
   "outputs": [
    {
     "name": "stdout",
     "output_type": "stream",
     "text": [
      "size of second eigenvalue is: \n"
     ]
    },
    {
     "data": {
      "text/plain": [
       "1.8038303913749192e-17"
      ]
     },
     "execution_count": 180,
     "metadata": {},
     "output_type": "execute_result"
    }
   ],
   "source": [
    "print('size of second eigenvalue is: ')\n",
    "np.abs(eig_pairs[1, 0])"
   ]
  },
  {
   "cell_type": "code",
   "execution_count": 82,
   "metadata": {
    "scrolled": false
   },
   "outputs": [
    {
     "data": {
      "text/plain": [
       "array([[-0.07955584,  0.05054502],\n",
       "       [-0.1360972 , -0.16812433],\n",
       "       [ 0.17883   ,  0.17168965],\n",
       "       [-0.21575339,  0.010341  ],\n",
       "       [-0.1120512 , -0.14203779],\n",
       "       [ 0.01436884,  0.01305026],\n",
       "       [ 0.07633867,  0.14952782],\n",
       "       [-0.05154774, -0.09892023],\n",
       "       [-0.16274366,  0.06508483],\n",
       "       [-0.087414  ,  0.09630523],\n",
       "       [-0.22450394, -0.18538096],\n",
       "       [-0.22177783,  0.02707331],\n",
       "       [-0.0648646 , -0.19784171],\n",
       "       [-0.03091624,  0.15956817],\n",
       "       [ 0.05555638, -0.10013992],\n",
       "       [ 0.08820656,  0.01340952],\n",
       "       [ 0.12228938, -0.07617854],\n",
       "       [-0.00784334,  0.02378967],\n",
       "       [-0.0486569 , -0.03177719],\n",
       "       [-0.0008431 , -0.03140635],\n",
       "       [-0.10854969, -0.03881182],\n",
       "       [-0.10738817,  0.04919391],\n",
       "       [ 0.01785505,  0.0188861 ],\n",
       "       [-0.11288141,  0.08376079],\n",
       "       [ 0.11295056, -0.0765758 ],\n",
       "       [-0.02146682,  0.09386569],\n",
       "       [-0.02646332, -0.10704629],\n",
       "       [-0.09606099,  0.10911457],\n",
       "       [-0.06122098, -0.08333162],\n",
       "       [-0.18875716,  0.09463281],\n",
       "       [ 0.29652802, -0.20419171],\n",
       "       [-0.04436601,  0.04494234],\n",
       "       [-0.00544466,  0.00593029],\n",
       "       [ 0.12265541,  0.15477108],\n",
       "       [-0.03123444,  0.03292069],\n",
       "       [ 0.3211826 , -0.04806338],\n",
       "       [ 0.15260241,  0.1628869 ],\n",
       "       [-0.04689179, -0.03180281],\n",
       "       [-0.11688221,  0.05579917],\n",
       "       [ 0.11714158, -0.0465271 ],\n",
       "       [-0.00155549, -0.00488231],\n",
       "       [-0.0559725 ,  0.11079754],\n",
       "       [-0.0648763 , -0.01399552],\n",
       "       [-0.18293248, -0.02400805],\n",
       "       [-0.24898434,  0.19065311],\n",
       "       [-0.11266266, -0.0071953 ],\n",
       "       [-0.15283792,  0.25330156],\n",
       "       [-0.20298006, -0.09210607],\n",
       "       [-0.08362091,  0.0017359 ],\n",
       "       [ 0.23769201, -0.07073497],\n",
       "       [-0.0896289 ,  0.14025327],\n",
       "       [-0.02306824,  0.01826399],\n",
       "       [-0.06687383, -0.03439335],\n",
       "       [-0.03855524,  0.10740571],\n",
       "       [ 0.17996786, -0.24078502],\n",
       "       [ 0.03453854, -0.23044028],\n",
       "       [ 0.16705549, -0.21582727],\n",
       "       [-0.16190867, -0.00170322],\n",
       "       [-0.03413013,  0.03963072],\n",
       "       [ 0.02075927, -0.03692503]])"
      ]
     },
     "metadata": {},
     "output_type": "display_data"
    }
   ],
   "source": [
    "W = eig_pairs[:2, 1:].T\n",
    "display(W)"
   ]
  },
  {
   "cell_type": "markdown",
   "metadata": {},
   "source": [
    "Now, let us plot the data projected to the plane $\\mathbb R^2$ with the matrix $W$ whose columns consists of the first two eigenvalues of $\\mathrm{S_W^{-1} S_B}$."
   ]
  },
  {
   "cell_type": "code",
   "execution_count": 67,
   "metadata": {},
   "outputs": [
    {
     "data": {
      "text/plain": [
       "(2, 33)"
      ]
     },
     "execution_count": 67,
     "metadata": {},
     "output_type": "execute_result"
    }
   ],
   "source": [
    "(W.T @ sonarTestA.T).shape\n"
   ]
  },
  {
   "cell_type": "code",
   "execution_count": 181,
   "metadata": {},
   "outputs": [],
   "source": [
    "# calculate diagonal to the line between the two means.\n",
    "perpend = utils.generate_perpendicular(W.T @ mA, W.T @ mB)"
   ]
  },
  {
   "cell_type": "code",
   "execution_count": 99,
   "metadata": {
    "scrolled": false
   },
   "outputs": [
    {
     "data": {
      "image/png": "[encoded data removed]",
      "text/plain": [
       "<Figure size 720x720 with 1 Axes>"
      ]
     },
     "metadata": {
      "needs_background": "light"
     },
     "output_type": "display_data"
    }
   ],
   "source": [
    "plt.figure(figsize=(10,10))\n",
    "plt.scatter(*(W.T @ sonarTestA.T), label='Class A')\n",
    "plt.scatter(*(W.T @ sonarTestB.T), label='Class B')\n",
    "plt.scatter(*(W.T @ ((mA + mB) / 2) ), c='black', label='Centroid')\n",
    "plt.scatter(*(W.T @ mA), label='$\\mathrm{m_A}$', marker='d', s=100)\n",
    "plt.scatter(*(W.T @ mB), label='$\\mathrm{m_B}$', marker='d', s=100)\n",
    "plt.plot(*perpend, label='Decision boundary', c='y')\n",
    "plt.xlim(-0.75, 0.25)\n",
    "plt.ylim(-0.4, 0.6)\n",
    "plt.legend()\n",
    "plt.show()"
   ]
  },
  {
   "cell_type": "markdown",
   "metadata": {},
   "source": [
    "It remains to calculate the success rate and comparint the result to the success rate from projecting the data to one dimension. We use the centroid classifier which classefies each observations with the label of the nearest mean."
   ]
  },
  {
   "cell_type": "code",
   "execution_count": 169,
   "metadata": {},
   "outputs": [],
   "source": [
    "def centroid_classifier(data, means):\n",
    "    '''\n",
    "    Classifies observations with the label of the nearest\n",
    "    mean.\n",
    "    \n",
    "    Parameters\n",
    "    ----------\n",
    "    data : numpy_array\n",
    "        Array with individual observations in each row.\n",
    "    \n",
    "    means : numpy_array\n",
    "        Array with the different means in each row.\n",
    "        \n",
    "    Returns\n",
    "    -------\n",
    "    labels : numpy_array\n",
    "        Array with labels, 0, 1, 2 etc. The labels correspond\n",
    "        to the ordering of the means in the means input.\n",
    "    '''\n",
    "    differences = data[:, None] - means\n",
    "    \n",
    "    distances = np.linalg.norm(differences, axis=2)\n",
    "    \n",
    "    return np.argmin(distances, axis=1)"
   ]
  },
  {
   "cell_type": "code",
   "execution_count": 178,
   "metadata": {},
   "outputs": [
    {
     "name": "stdout",
     "output_type": "stream",
     "text": [
      "0.7741935483870968\n"
     ]
    }
   ],
   "source": [
    "projA = W.T @ sonarTestA.T\n",
    "projB = W.T @ sonarTestB.T\n",
    "means = np.array([W.T @ mA, W.T @ mB])\n",
    "\n",
    "labelsA = centroid_classifier(projA.T, means)\n",
    "labelsB = centroid_classifier(projB.T, means)\n",
    "\n",
    "# sum of misslabeled data\n",
    "missc = sum(labelsA == 1) + sum(labelsB == 0)\n",
    "\n",
    "rate = 1 - missc / (len(projA.T) + len(projB.T))\n",
    "print(rate)"
   ]
  },
  {
   "cell_type": "markdown",
   "metadata": {},
   "source": [
    "Thus the second attempt did not improve the classification."
   ]
  }
 ],
 "metadata": {
  "kernelspec": {
   "display_name": "Python 3",
   "language": "python",
   "name": "python3"
  },
  "language_info": {
   "codemirror_mode": {
    "name": "ipython",
    "version": 3
   },
   "file_extension": ".py",
   "mimetype": "text/x-python",
   "name": "python",
   "nbconvert_exporter": "python",
   "pygments_lexer": "ipython3",
   "version": "3.7.4"
  }
 },
 "nbformat": 4,
 "nbformat_minor": 4
}
